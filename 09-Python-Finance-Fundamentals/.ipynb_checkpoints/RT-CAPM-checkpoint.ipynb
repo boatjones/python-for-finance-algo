{
 "cells": [
  {
   "cell_type": "code",
   "execution_count": 2,
   "metadata": {},
   "outputs": [],
   "source": [
    "from scipy import stats"
   ]
  },
  {
   "cell_type": "code",
   "execution_count": 3,
   "metadata": {},
   "outputs": [
    {
     "name": "stdout",
     "output_type": "stream",
     "text": [
      "Help on function linregress in module scipy.stats._stats_mstats_common:\n",
      "\n",
      "linregress(x, y=None)\n",
      "    Calculate a linear least-squares regression for two sets of measurements.\n",
      "    \n",
      "    Parameters\n",
      "    ----------\n",
      "    x, y : array_like\n",
      "        Two sets of measurements.  Both arrays should have the same length.  If\n",
      "        only `x` is given (and ``y=None``), then it must be a two-dimensional\n",
      "        array where one dimension has length 2.  The two sets of measurements\n",
      "        are then found by splitting the array along the length-2 dimension.  In\n",
      "        the case where ``y=None`` and `x` is a 2x2 array, ``linregress(x)`` is\n",
      "        equivalent to ``linregress(x[0], x[1])``.\n",
      "    \n",
      "    Returns\n",
      "    -------\n",
      "    slope : float\n",
      "        Slope of the regression line.\n",
      "    intercept : float\n",
      "        Intercept of the regression line.\n",
      "    rvalue : float\n",
      "        Correlation coefficient.\n",
      "    pvalue : float\n",
      "        Two-sided p-value for a hypothesis test whose null hypothesis is\n",
      "        that the slope is zero, using Wald Test with t-distribution of\n",
      "        the test statistic.\n",
      "    stderr : float\n",
      "        Standard error of the estimated gradient.\n",
      "    \n",
      "    See also\n",
      "    --------\n",
      "    :func:`scipy.optimize.curve_fit` : Use non-linear\n",
      "     least squares to fit a function to data.\n",
      "    :func:`scipy.optimize.leastsq` : Minimize the sum of\n",
      "     squares of a set of equations.\n",
      "    \n",
      "    Notes\n",
      "    -----\n",
      "    Missing values are considered pair-wise: if a value is missing in `x`,\n",
      "    the corresponding value in `y` is masked.\n",
      "    \n",
      "    Examples\n",
      "    --------\n",
      "    >>> import matplotlib.pyplot as plt\n",
      "    >>> from scipy import stats\n",
      "    \n",
      "    Generate some data:\n",
      "    \n",
      "    >>> np.random.seed(12345678)\n",
      "    >>> x = np.random.random(10)\n",
      "    >>> y = 1.6*x + np.random.random(10)\n",
      "    \n",
      "    Perform the linear regression:\n",
      "    \n",
      "    >>> slope, intercept, r_value, p_value, std_err = stats.linregress(x, y)\n",
      "    >>> print(\"slope: %f    intercept: %f\" % (slope, intercept))\n",
      "    slope: 1.944864    intercept: 0.268578\n",
      "    \n",
      "    To get coefficient of determination (R-squared):\n",
      "    \n",
      "    >>> print(\"R-squared: %f\" % r_value**2)\n",
      "    R-squared: 0.735498\n",
      "    \n",
      "    Plot the data along with the fitted line:\n",
      "    \n",
      "    >>> plt.plot(x, y, 'o', label='original data')\n",
      "    >>> plt.plot(x, intercept + slope*x, 'r', label='fitted line')\n",
      "    >>> plt.legend()\n",
      "    >>> plt.show()\n",
      "    \n",
      "    Example for the case where only x is provided as a 2x2 array:\n",
      "    \n",
      "    >>> x = np.array([[0, 1], [0, 2]])\n",
      "    >>> r = stats.linregress(x)\n",
      "    >>> r.slope, r.intercept\n",
      "    (2.0, 0.0)\n",
      "\n"
     ]
    }
   ],
   "source": [
    "# this is the documentation on linear regression\n",
    "help(stats.linregress)"
   ]
  },
  {
   "cell_type": "code",
   "execution_count": 4,
   "metadata": {},
   "outputs": [],
   "source": [
    "import pandas as pd\n",
    "import pandas_datareader as web"
   ]
  },
  {
   "cell_type": "code",
   "execution_count": 7,
   "metadata": {},
   "outputs": [],
   "source": [
    "spy_etf = web.DataReader('SPY', 'yahoo')"
   ]
  },
  {
   "cell_type": "code",
   "execution_count": 8,
   "metadata": {},
   "outputs": [
    {
     "name": "stdout",
     "output_type": "stream",
     "text": [
      "<class 'pandas.core.frame.DataFrame'>\n",
      "DatetimeIndex: 1258 entries, 2015-06-17 to 2020-06-15\n",
      "Data columns (total 6 columns):\n",
      " #   Column     Non-Null Count  Dtype  \n",
      "---  ------     --------------  -----  \n",
      " 0   High       1258 non-null   float64\n",
      " 1   Low        1258 non-null   float64\n",
      " 2   Open       1258 non-null   float64\n",
      " 3   Close      1258 non-null   float64\n",
      " 4   Volume     1258 non-null   float64\n",
      " 5   Adj Close  1258 non-null   float64\n",
      "dtypes: float64(6)\n",
      "memory usage: 68.8 KB\n"
     ]
    }
   ],
   "source": [
    "spy_etf.info()"
   ]
  },
  {
   "cell_type": "code",
   "execution_count": 9,
   "metadata": {},
   "outputs": [
    {
     "data": {
      "text/html": [
       "<div>\n",
       "<style scoped>\n",
       "    .dataframe tbody tr th:only-of-type {\n",
       "        vertical-align: middle;\n",
       "    }\n",
       "\n",
       "    .dataframe tbody tr th {\n",
       "        vertical-align: top;\n",
       "    }\n",
       "\n",
       "    .dataframe thead th {\n",
       "        text-align: right;\n",
       "    }\n",
       "</style>\n",
       "<table border=\"1\" class=\"dataframe\">\n",
       "  <thead>\n",
       "    <tr style=\"text-align: right;\">\n",
       "      <th></th>\n",
       "      <th>High</th>\n",
       "      <th>Low</th>\n",
       "      <th>Open</th>\n",
       "      <th>Close</th>\n",
       "      <th>Volume</th>\n",
       "      <th>Adj Close</th>\n",
       "    </tr>\n",
       "    <tr>\n",
       "      <th>Date</th>\n",
       "      <th></th>\n",
       "      <th></th>\n",
       "      <th></th>\n",
       "      <th></th>\n",
       "      <th></th>\n",
       "      <th></th>\n",
       "    </tr>\n",
       "  </thead>\n",
       "  <tbody>\n",
       "    <tr>\n",
       "      <th>2015-06-17</th>\n",
       "      <td>211.320007</td>\n",
       "      <td>209.360001</td>\n",
       "      <td>210.589996</td>\n",
       "      <td>210.589996</td>\n",
       "      <td>126708600.0</td>\n",
       "      <td>190.566559</td>\n",
       "    </tr>\n",
       "    <tr>\n",
       "      <th>2015-06-18</th>\n",
       "      <td>213.339996</td>\n",
       "      <td>210.630005</td>\n",
       "      <td>211.309998</td>\n",
       "      <td>212.779999</td>\n",
       "      <td>165867900.0</td>\n",
       "      <td>192.548340</td>\n",
       "    </tr>\n",
       "    <tr>\n",
       "      <th>2015-06-19</th>\n",
       "      <td>211.550003</td>\n",
       "      <td>210.360001</td>\n",
       "      <td>211.460007</td>\n",
       "      <td>210.809998</td>\n",
       "      <td>130478700.0</td>\n",
       "      <td>191.693558</td>\n",
       "    </tr>\n",
       "    <tr>\n",
       "      <th>2015-06-22</th>\n",
       "      <td>212.589996</td>\n",
       "      <td>211.639999</td>\n",
       "      <td>211.910004</td>\n",
       "      <td>211.889999</td>\n",
       "      <td>70696000.0</td>\n",
       "      <td>192.675644</td>\n",
       "    </tr>\n",
       "    <tr>\n",
       "      <th>2015-06-23</th>\n",
       "      <td>212.440002</td>\n",
       "      <td>211.570007</td>\n",
       "      <td>212.139999</td>\n",
       "      <td>212.039993</td>\n",
       "      <td>68476800.0</td>\n",
       "      <td>192.812057</td>\n",
       "    </tr>\n",
       "  </tbody>\n",
       "</table>\n",
       "</div>"
      ],
      "text/plain": [
       "                  High         Low        Open       Close       Volume  \\\n",
       "Date                                                                      \n",
       "2015-06-17  211.320007  209.360001  210.589996  210.589996  126708600.0   \n",
       "2015-06-18  213.339996  210.630005  211.309998  212.779999  165867900.0   \n",
       "2015-06-19  211.550003  210.360001  211.460007  210.809998  130478700.0   \n",
       "2015-06-22  212.589996  211.639999  211.910004  211.889999   70696000.0   \n",
       "2015-06-23  212.440002  211.570007  212.139999  212.039993   68476800.0   \n",
       "\n",
       "             Adj Close  \n",
       "Date                    \n",
       "2015-06-17  190.566559  \n",
       "2015-06-18  192.548340  \n",
       "2015-06-19  191.693558  \n",
       "2015-06-22  192.675644  \n",
       "2015-06-23  192.812057  "
      ]
     },
     "execution_count": 9,
     "metadata": {},
     "output_type": "execute_result"
    }
   ],
   "source": [
    "spy_etf.head()"
   ]
  },
  {
   "cell_type": "code",
   "execution_count": 10,
   "metadata": {},
   "outputs": [
    {
     "data": {
      "text/html": [
       "<div>\n",
       "<style scoped>\n",
       "    .dataframe tbody tr th:only-of-type {\n",
       "        vertical-align: middle;\n",
       "    }\n",
       "\n",
       "    .dataframe tbody tr th {\n",
       "        vertical-align: top;\n",
       "    }\n",
       "\n",
       "    .dataframe thead th {\n",
       "        text-align: right;\n",
       "    }\n",
       "</style>\n",
       "<table border=\"1\" class=\"dataframe\">\n",
       "  <thead>\n",
       "    <tr style=\"text-align: right;\">\n",
       "      <th></th>\n",
       "      <th>High</th>\n",
       "      <th>Low</th>\n",
       "      <th>Open</th>\n",
       "      <th>Close</th>\n",
       "      <th>Volume</th>\n",
       "      <th>Adj Close</th>\n",
       "    </tr>\n",
       "    <tr>\n",
       "      <th>Date</th>\n",
       "      <th></th>\n",
       "      <th></th>\n",
       "      <th></th>\n",
       "      <th></th>\n",
       "      <th></th>\n",
       "      <th></th>\n",
       "    </tr>\n",
       "  </thead>\n",
       "  <tbody>\n",
       "    <tr>\n",
       "      <th>2020-06-09</th>\n",
       "      <td>323.279999</td>\n",
       "      <td>319.359985</td>\n",
       "      <td>320.299988</td>\n",
       "      <td>320.790009</td>\n",
       "      <td>77479200.0</td>\n",
       "      <td>320.790009</td>\n",
       "    </tr>\n",
       "    <tr>\n",
       "      <th>2020-06-10</th>\n",
       "      <td>322.390015</td>\n",
       "      <td>318.220001</td>\n",
       "      <td>321.420013</td>\n",
       "      <td>319.000000</td>\n",
       "      <td>95000800.0</td>\n",
       "      <td>319.000000</td>\n",
       "    </tr>\n",
       "    <tr>\n",
       "      <th>2020-06-11</th>\n",
       "      <td>312.149994</td>\n",
       "      <td>300.010010</td>\n",
       "      <td>311.459991</td>\n",
       "      <td>300.609985</td>\n",
       "      <td>209243600.0</td>\n",
       "      <td>300.609985</td>\n",
       "    </tr>\n",
       "    <tr>\n",
       "      <th>2020-06-12</th>\n",
       "      <td>309.079987</td>\n",
       "      <td>298.600006</td>\n",
       "      <td>308.239990</td>\n",
       "      <td>304.209991</td>\n",
       "      <td>194529100.0</td>\n",
       "      <td>304.209991</td>\n",
       "    </tr>\n",
       "    <tr>\n",
       "      <th>2020-06-15</th>\n",
       "      <td>300.976990</td>\n",
       "      <td>296.739990</td>\n",
       "      <td>298.019989</td>\n",
       "      <td>300.976990</td>\n",
       "      <td>19351838.0</td>\n",
       "      <td>300.976990</td>\n",
       "    </tr>\n",
       "  </tbody>\n",
       "</table>\n",
       "</div>"
      ],
      "text/plain": [
       "                  High         Low        Open       Close       Volume  \\\n",
       "Date                                                                      \n",
       "2020-06-09  323.279999  319.359985  320.299988  320.790009   77479200.0   \n",
       "2020-06-10  322.390015  318.220001  321.420013  319.000000   95000800.0   \n",
       "2020-06-11  312.149994  300.010010  311.459991  300.609985  209243600.0   \n",
       "2020-06-12  309.079987  298.600006  308.239990  304.209991  194529100.0   \n",
       "2020-06-15  300.976990  296.739990  298.019989  300.976990   19351838.0   \n",
       "\n",
       "             Adj Close  \n",
       "Date                    \n",
       "2020-06-09  320.790009  \n",
       "2020-06-10  319.000000  \n",
       "2020-06-11  300.609985  \n",
       "2020-06-12  304.209991  \n",
       "2020-06-15  300.976990  "
      ]
     },
     "execution_count": 10,
     "metadata": {},
     "output_type": "execute_result"
    }
   ],
   "source": [
    "spy_etf.tail()"
   ]
  },
  {
   "cell_type": "code",
   "execution_count": 11,
   "metadata": {},
   "outputs": [],
   "source": [
    "beg_date = pd.to_datetime('2015-06-17')\n",
    "end_date = pd.to_datetime('2020-06-12')"
   ]
  },
  {
   "cell_type": "code",
   "execution_count": 12,
   "metadata": {},
   "outputs": [],
   "source": [
    "aapl = web.DataReader('AAPL', 'yahoo', beg_date, end_date)"
   ]
  },
  {
   "cell_type": "code",
   "execution_count": 13,
   "metadata": {},
   "outputs": [
    {
     "data": {
      "text/html": [
       "<div>\n",
       "<style scoped>\n",
       "    .dataframe tbody tr th:only-of-type {\n",
       "        vertical-align: middle;\n",
       "    }\n",
       "\n",
       "    .dataframe tbody tr th {\n",
       "        vertical-align: top;\n",
       "    }\n",
       "\n",
       "    .dataframe thead th {\n",
       "        text-align: right;\n",
       "    }\n",
       "</style>\n",
       "<table border=\"1\" class=\"dataframe\">\n",
       "  <thead>\n",
       "    <tr style=\"text-align: right;\">\n",
       "      <th></th>\n",
       "      <th>High</th>\n",
       "      <th>Low</th>\n",
       "      <th>Open</th>\n",
       "      <th>Close</th>\n",
       "      <th>Volume</th>\n",
       "      <th>Adj Close</th>\n",
       "    </tr>\n",
       "    <tr>\n",
       "      <th>Date</th>\n",
       "      <th></th>\n",
       "      <th></th>\n",
       "      <th></th>\n",
       "      <th></th>\n",
       "      <th></th>\n",
       "      <th></th>\n",
       "    </tr>\n",
       "  </thead>\n",
       "  <tbody>\n",
       "    <tr>\n",
       "      <th>2015-06-17</th>\n",
       "      <td>127.879997</td>\n",
       "      <td>126.739998</td>\n",
       "      <td>127.720001</td>\n",
       "      <td>127.300003</td>\n",
       "      <td>32918100.0</td>\n",
       "      <td>117.320793</td>\n",
       "    </tr>\n",
       "    <tr>\n",
       "      <th>2015-06-18</th>\n",
       "      <td>128.309998</td>\n",
       "      <td>127.220001</td>\n",
       "      <td>127.230003</td>\n",
       "      <td>127.879997</td>\n",
       "      <td>35407200.0</td>\n",
       "      <td>117.855324</td>\n",
       "    </tr>\n",
       "    <tr>\n",
       "      <th>2015-06-19</th>\n",
       "      <td>127.820000</td>\n",
       "      <td>126.400002</td>\n",
       "      <td>127.709999</td>\n",
       "      <td>126.599998</td>\n",
       "      <td>54716900.0</td>\n",
       "      <td>116.675667</td>\n",
       "    </tr>\n",
       "    <tr>\n",
       "      <th>2015-06-22</th>\n",
       "      <td>128.059998</td>\n",
       "      <td>127.080002</td>\n",
       "      <td>127.489998</td>\n",
       "      <td>127.610001</td>\n",
       "      <td>34039300.0</td>\n",
       "      <td>117.606491</td>\n",
       "    </tr>\n",
       "    <tr>\n",
       "      <th>2015-06-23</th>\n",
       "      <td>127.610001</td>\n",
       "      <td>126.879997</td>\n",
       "      <td>127.480003</td>\n",
       "      <td>127.029999</td>\n",
       "      <td>30268900.0</td>\n",
       "      <td>117.071945</td>\n",
       "    </tr>\n",
       "  </tbody>\n",
       "</table>\n",
       "</div>"
      ],
      "text/plain": [
       "                  High         Low        Open       Close      Volume  \\\n",
       "Date                                                                     \n",
       "2015-06-17  127.879997  126.739998  127.720001  127.300003  32918100.0   \n",
       "2015-06-18  128.309998  127.220001  127.230003  127.879997  35407200.0   \n",
       "2015-06-19  127.820000  126.400002  127.709999  126.599998  54716900.0   \n",
       "2015-06-22  128.059998  127.080002  127.489998  127.610001  34039300.0   \n",
       "2015-06-23  127.610001  126.879997  127.480003  127.029999  30268900.0   \n",
       "\n",
       "             Adj Close  \n",
       "Date                    \n",
       "2015-06-17  117.320793  \n",
       "2015-06-18  117.855324  \n",
       "2015-06-19  116.675667  \n",
       "2015-06-22  117.606491  \n",
       "2015-06-23  117.071945  "
      ]
     },
     "execution_count": 13,
     "metadata": {},
     "output_type": "execute_result"
    }
   ],
   "source": [
    "aapl.head()"
   ]
  },
  {
   "cell_type": "code",
   "execution_count": 14,
   "metadata": {},
   "outputs": [],
   "source": [
    "import matplotlib.pyplot as plt\n",
    "%matplotlib inline"
   ]
  },
  {
   "cell_type": "code",
   "execution_count": 16,
   "metadata": {},
   "outputs": [
    {
     "data": {
      "text/plain": [
       "<matplotlib.legend.Legend at 0x7f2d3242c5d0>"
      ]
     },
     "execution_count": 16,
     "metadata": {},
     "output_type": "execute_result"
    },
    {
     "data": {
      "image/png": "[encoded data removed]",
      "text/plain": [
       "<Figure size 864x576 with 1 Axes>"
      ]
     },
     "metadata": {
      "needs_background": "light"
     },
     "output_type": "display_data"
    }
   ],
   "source": [
    "aapl['Adj Close'].plot(label='AAPL', figsize=(12,8))\n",
    "spy_etf['Adj Close'].plot(label='SPY Index')\n",
    "plt.legend()"
   ]
  },
  {
   "cell_type": "code",
   "execution_count": 19,
   "metadata": {},
   "outputs": [],
   "source": [
    "aapl['Cumulative'] = aapl['Adj Close'] / aapl['Adj Close'].iloc[0]\n",
    "spy_etf['Cumulative'] = spy_etf['Adj Close'] / spy_etf['Adj Close'].iloc[0]"
   ]
  },
  {
   "cell_type": "code",
   "execution_count": 20,
   "metadata": {},
   "outputs": [
    {
     "data": {
      "text/plain": [
       "<matplotlib.legend.Legend at 0x7f2d3227d490>"
      ]
     },
     "execution_count": 20,
     "metadata": {},
     "output_type": "execute_result"
    },
    {
     "data": {
      "image/png": "[encoded data removed]",
      "text/plain": [
       "<Figure size 864x576 with 1 Axes>"
      ]
     },
     "metadata": {
      "needs_background": "light"
     },
     "output_type": "display_data"
    }
   ],
   "source": [
    "aapl['Cumulative'].plot(label='AAPL', figsize=(12,8))\n",
    "spy_etf['Cumulative'].plot(label='SPY')\n",
    "plt.legend()"
   ]
  },
  {
   "cell_type": "code",
   "execution_count": 22,
   "metadata": {},
   "outputs": [],
   "source": [
    "aapl['Daily Return'] = aapl['Adj Close'].pct_change(1)\n",
    "spy_etf['Daily Return'] = spy_etf['Adj Close'].pct_change(1)"
   ]
  },
  {
   "cell_type": "code",
   "execution_count": 32,
   "metadata": {},
   "outputs": [
    {
     "data": {
      "text/plain": [
       "<matplotlib.collections.PathCollection at 0x7f2d3056d110>"
      ]
     },
     "execution_count": 32,
     "metadata": {},
     "output_type": "execute_result"
    },
    {
     "data": {
      "image/png": "[encoded data removed]",
      "text/plain": [
       "<Figure size 432x288 with 1 Axes>"
      ]
     },
     "metadata": {
      "needs_background": "light"
     },
     "output_type": "display_data"
    }
   ],
   "source": [
    "# x & y axes must have the same dates\n",
    "plt.scatter(aapl['Daily Return'], spy_etf['Daily Return'], alpha=0.25)"
   ]
  },
  {
   "cell_type": "code",
   "execution_count": 31,
   "metadata": {},
   "outputs": [
    {
     "data": {
      "text/html": [
       "<div>\n",
       "<style scoped>\n",
       "    .dataframe tbody tr th:only-of-type {\n",
       "        vertical-align: middle;\n",
       "    }\n",
       "\n",
       "    .dataframe tbody tr th {\n",
       "        vertical-align: top;\n",
       "    }\n",
       "\n",
       "    .dataframe thead th {\n",
       "        text-align: right;\n",
       "    }\n",
       "</style>\n",
       "<table border=\"1\" class=\"dataframe\">\n",
       "  <thead>\n",
       "    <tr style=\"text-align: right;\">\n",
       "      <th></th>\n",
       "      <th>High</th>\n",
       "      <th>Low</th>\n",
       "      <th>Open</th>\n",
       "      <th>Close</th>\n",
       "      <th>Volume</th>\n",
       "      <th>Adj Close</th>\n",
       "      <th>Cumulative</th>\n",
       "      <th>Daily Return</th>\n",
       "    </tr>\n",
       "    <tr>\n",
       "      <th>Date</th>\n",
       "      <th></th>\n",
       "      <th></th>\n",
       "      <th></th>\n",
       "      <th></th>\n",
       "      <th></th>\n",
       "      <th></th>\n",
       "      <th></th>\n",
       "      <th></th>\n",
       "    </tr>\n",
       "  </thead>\n",
       "  <tbody>\n",
       "    <tr>\n",
       "      <th>2020-06-08</th>\n",
       "      <td>323.410004</td>\n",
       "      <td>319.630005</td>\n",
       "      <td>320.220001</td>\n",
       "      <td>323.200012</td>\n",
       "      <td>73641200.0</td>\n",
       "      <td>323.200012</td>\n",
       "      <td>1.695995</td>\n",
       "      <td>0.012087</td>\n",
       "    </tr>\n",
       "    <tr>\n",
       "      <th>2020-06-09</th>\n",
       "      <td>323.279999</td>\n",
       "      <td>319.359985</td>\n",
       "      <td>320.299988</td>\n",
       "      <td>320.790009</td>\n",
       "      <td>77479200.0</td>\n",
       "      <td>320.790009</td>\n",
       "      <td>1.683349</td>\n",
       "      <td>-0.007457</td>\n",
       "    </tr>\n",
       "    <tr>\n",
       "      <th>2020-06-10</th>\n",
       "      <td>322.390015</td>\n",
       "      <td>318.220001</td>\n",
       "      <td>321.420013</td>\n",
       "      <td>319.000000</td>\n",
       "      <td>95000800.0</td>\n",
       "      <td>319.000000</td>\n",
       "      <td>1.673956</td>\n",
       "      <td>-0.005580</td>\n",
       "    </tr>\n",
       "    <tr>\n",
       "      <th>2020-06-11</th>\n",
       "      <td>312.149994</td>\n",
       "      <td>300.010010</td>\n",
       "      <td>311.459991</td>\n",
       "      <td>300.609985</td>\n",
       "      <td>209243600.0</td>\n",
       "      <td>300.609985</td>\n",
       "      <td>1.577454</td>\n",
       "      <td>-0.057649</td>\n",
       "    </tr>\n",
       "    <tr>\n",
       "      <th>2020-06-12</th>\n",
       "      <td>309.079987</td>\n",
       "      <td>298.600006</td>\n",
       "      <td>308.239990</td>\n",
       "      <td>304.209991</td>\n",
       "      <td>194529100.0</td>\n",
       "      <td>304.209991</td>\n",
       "      <td>1.596345</td>\n",
       "      <td>0.011976</td>\n",
       "    </tr>\n",
       "  </tbody>\n",
       "</table>\n",
       "</div>"
      ],
      "text/plain": [
       "                  High         Low        Open       Close       Volume  \\\n",
       "Date                                                                      \n",
       "2020-06-08  323.410004  319.630005  320.220001  323.200012   73641200.0   \n",
       "2020-06-09  323.279999  319.359985  320.299988  320.790009   77479200.0   \n",
       "2020-06-10  322.390015  318.220001  321.420013  319.000000   95000800.0   \n",
       "2020-06-11  312.149994  300.010010  311.459991  300.609985  209243600.0   \n",
       "2020-06-12  309.079987  298.600006  308.239990  304.209991  194529100.0   \n",
       "\n",
       "             Adj Close  Cumulative  Daily Return  \n",
       "Date                                              \n",
       "2020-06-08  323.200012    1.695995      0.012087  \n",
       "2020-06-09  320.790009    1.683349     -0.007457  \n",
       "2020-06-10  319.000000    1.673956     -0.005580  \n",
       "2020-06-11  300.609985    1.577454     -0.057649  \n",
       "2020-06-12  304.209991    1.596345      0.011976  "
      ]
     },
     "execution_count": 31,
     "metadata": {},
     "output_type": "execute_result"
    }
   ],
   "source": [
    "# this command was used to remove a 6/15/2020 row that was messing up the above scatter plot\n",
    "spy_etf.drop(spy_etf.tail(1).index, inplace=True)\n",
    "spy_etf.tail()"
   ]
  },
  {
   "cell_type": "markdown",
   "metadata": {},
   "source": [
    "## These are the values returned from linear regression to code variables for\n",
    "    slope : float\n",
    "        Slope of the regression line.\n",
    "    intercept : float\n",
    "        Intercept of the regression line.\n",
    "    rvalue : float\n",
    "        Correlation coefficient.\n",
    "    pvalue : float\n",
    "        Two-sided p-value for a hypothesis test whose null hypothesis is\n",
    "        that the slope is zero, using Wald Test with t-distribution of\n",
    "        the test statistic.\n",
    "    stderr : float"
   ]
  },
  {
   "cell_type": "code",
   "execution_count": 33,
   "metadata": {},
   "outputs": [],
   "source": [
    "# have to avoid the very first row that has null values since linear regression can't deal with null values\n",
    "beta, alpha, r_value, p_value, st_err = stats.linregress(aapl['Daily Return'].iloc[1:], \n",
    "                                                         spy_etf['Daily Return'].iloc[1:])"
   ]
  },
  {
   "cell_type": "code",
   "execution_count": 34,
   "metadata": {},
   "outputs": [
    {
     "data": {
      "text/plain": [
       "0.4998014893456104"
      ]
     },
     "execution_count": 34,
     "metadata": {},
     "output_type": "execute_result"
    }
   ],
   "source": [
    "beta"
   ]
  },
  {
   "cell_type": "code",
   "execution_count": 35,
   "metadata": {},
   "outputs": [
    {
     "data": {
      "text/plain": [
       "-6.103722432281749e-05"
      ]
     },
     "execution_count": 35,
     "metadata": {},
     "output_type": "execute_result"
    }
   ],
   "source": [
    "alpha"
   ]
  },
  {
   "cell_type": "code",
   "execution_count": 36,
   "metadata": {},
   "outputs": [
    {
     "data": {
      "text/plain": [
       "0.7621825960127865"
      ]
     },
     "execution_count": 36,
     "metadata": {},
     "output_type": "execute_result"
    }
   ],
   "source": [
    "r_value"
   ]
  },
  {
   "cell_type": "code",
   "execution_count": 37,
   "metadata": {},
   "outputs": [
    {
     "data": {
      "text/plain": [
       "Date\n",
       "2015-06-17         NaN\n",
       "2015-06-18    0.010399\n",
       "2015-06-19   -0.004439\n",
       "2015-06-22    0.005123\n",
       "2015-06-23    0.000708\n",
       "Name: Daily Return, dtype: float64"
      ]
     },
     "execution_count": 37,
     "metadata": {},
     "output_type": "execute_result"
    }
   ],
   "source": [
    "spy_etf['Daily Return'].head()"
   ]
  },
  {
   "cell_type": "code",
   "execution_count": 38,
   "metadata": {},
   "outputs": [],
   "source": [
    "# create a fake stock with random noise around SPY\n",
    "import numpy as np\n",
    "noise = np.random.normal(0, 0.001, len(spy_etf['Daily Return'].iloc[1:]))"
   ]
  },
  {
   "cell_type": "code",
   "execution_count": 39,
   "metadata": {},
   "outputs": [
    {
     "data": {
      "text/plain": [
       "array([-0.00163288, -0.00076217, -0.00076254, ..., -0.00150317,\n",
       "        0.00108143, -0.00039454])"
      ]
     },
     "execution_count": 39,
     "metadata": {},
     "output_type": "execute_result"
    }
   ],
   "source": [
    "noise"
   ]
  },
  {
   "cell_type": "code",
   "execution_count": 40,
   "metadata": {},
   "outputs": [],
   "source": [
    "fake_stock = spy_etf['Daily Return'].iloc[1:] + noise"
   ]
  },
  {
   "cell_type": "code",
   "execution_count": 41,
   "metadata": {},
   "outputs": [
    {
     "data": {
      "text/plain": [
       "Date\n",
       "2015-06-18    0.008767\n",
       "2015-06-19   -0.005201\n",
       "2015-06-22    0.004361\n",
       "2015-06-23    0.001406\n",
       "2015-06-24   -0.007245\n",
       "Name: Daily Return, dtype: float64"
      ]
     },
     "execution_count": 41,
     "metadata": {},
     "output_type": "execute_result"
    }
   ],
   "source": [
    "fake_stock.head()"
   ]
  },
  {
   "cell_type": "code",
   "execution_count": 42,
   "metadata": {},
   "outputs": [
    {
     "data": {
      "text/plain": [
       "<matplotlib.collections.PathCollection at 0x7f2d30562e90>"
      ]
     },
     "execution_count": 42,
     "metadata": {},
     "output_type": "execute_result"
    },
    {
     "data": {
      "image/png": "[encoded data removed]",
      "text/plain": [
       "<Figure size 432x288 with 1 Axes>"
      ]
     },
     "metadata": {
      "needs_background": "light"
     },
     "output_type": "display_data"
    }
   ],
   "source": [
    "plt.scatter(fake_stock, spy_etf['Daily Return'].iloc[1:], alpha=0.25)"
   ]
  },
  {
   "cell_type": "code",
   "execution_count": 43,
   "metadata": {},
   "outputs": [],
   "source": [
    "beta, alpha, r_value, p_value, st_err = stats.linregress(fake_stock, \n",
    "                                                         spy_etf['Daily Return'].iloc[1:])"
   ]
  },
  {
   "cell_type": "code",
   "execution_count": 44,
   "metadata": {},
   "outputs": [
    {
     "data": {
      "text/plain": [
       "0.99484355684222"
      ]
     },
     "execution_count": 44,
     "metadata": {},
     "output_type": "execute_result"
    }
   ],
   "source": [
    "beta"
   ]
  },
  {
   "cell_type": "code",
   "execution_count": 45,
   "metadata": {},
   "outputs": [
    {
     "data": {
      "text/plain": [
       "0.9966000468909741"
      ]
     },
     "execution_count": 45,
     "metadata": {},
     "output_type": "execute_result"
    }
   ],
   "source": [
    "r_value"
   ]
  },
  {
   "cell_type": "code",
   "execution_count": 46,
   "metadata": {},
   "outputs": [
    {
     "data": {
      "text/plain": [
       "1.390184465888903e-05"
      ]
     },
     "execution_count": 46,
     "metadata": {},
     "output_type": "execute_result"
    }
   ],
   "source": [
    "alpha"
   ]
  },
  {
   "cell_type": "code",
   "execution_count": null,
   "metadata": {},
   "outputs": [],
   "source": []
  }
 ],
 "metadata": {
  "kernelspec": {
   "display_name": "Python 3",
   "language": "python",
   "name": "python3"
  },
  "language_info": {
   "codemirror_mode": {
    "name": "ipython",
    "version": 3
   },
   "file_extension": ".py",
   "mimetype": "text/x-python",
   "name": "python",
   "nbconvert_exporter": "python",
   "pygments_lexer": "ipython3",
   "version": "3.7.6"
  }
 },
 "nbformat": 4,
 "nbformat_minor": 4
}
